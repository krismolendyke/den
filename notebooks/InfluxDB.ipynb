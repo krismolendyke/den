{
 "metadata": {
  "name": "",
  "signature": "sha256:7e17ae2f410ffd1dd94c3144c7804c10f19bcab5f18fb98023c731a5fbc21106"
 },
 "nbformat": 3,
 "nbformat_minor": 0,
 "worksheets": [
  {
   "cells": [
    {
     "cell_type": "markdown",
     "metadata": {},
     "source": [
      "# InfluxDB\n",
      "\n",
      "First, get an [access token](Authorization.ipynb) and set it as the value of `DEN_ACCESS_TOKEN` in the environment *before* starting this IPython Notebook."
     ]
    },
    {
     "cell_type": "code",
     "collapsed": false,
     "input": [
      "import os"
     ],
     "language": "python",
     "metadata": {},
     "outputs": []
    },
    {
     "cell_type": "code",
     "collapsed": false,
     "input": [
      "access_token = os.environ[\"DEN_ACCESS_TOKEN\"]"
     ],
     "language": "python",
     "metadata": {},
     "outputs": []
    },
    {
     "cell_type": "code",
     "collapsed": false,
     "input": [
      "API_PROTOCOL = \"https\"\n",
      "API_LOCATION = \"developer-api.nest.com\""
     ],
     "language": "python",
     "metadata": {},
     "outputs": []
    },
    {
     "cell_type": "code",
     "collapsed": false,
     "input": [
      "from urlparse import SplitResult, urlunsplit\n",
      "from urllib import urlencode"
     ],
     "language": "python",
     "metadata": {},
     "outputs": []
    },
    {
     "cell_type": "code",
     "collapsed": false,
     "input": [
      "def get_api_url(path=\"\"):\n",
      "    query = urlencode({\"auth\": access_token})\n",
      "    split = SplitResult(scheme=API_PROTOCOL, netloc=API_LOCATION, path=path, query=query, fragment=\"\")\n",
      "    return urlunsplit(split)    "
     ],
     "language": "python",
     "metadata": {},
     "outputs": []
    },
    {
     "cell_type": "code",
     "collapsed": false,
     "input": [
      "import requests"
     ],
     "language": "python",
     "metadata": {},
     "outputs": []
    },
    {
     "cell_type": "markdown",
     "metadata": {},
     "source": [
      "## Streaming\n",
      "\n",
      "The [Nest REST Streaming API](https://developer.nest.com/documentation/cloud/rest-streaming-guide) makes it easy to get real time data without worrying about [rate limiting](https://developer.nest.com/documentation/cloud/data-rate-limits)."
     ]
    },
    {
     "cell_type": "code",
     "collapsed": false,
     "input": [
      "import json"
     ],
     "language": "python",
     "metadata": {},
     "outputs": []
    },
    {
     "cell_type": "code",
     "collapsed": false,
     "input": [
      "def get_stream(path=\"\"):\n",
      "    \"\"\"Make a GET to the stream API and return the response object.\"\"\"\n",
      "    r = requests.get(get_api_url(path), headers={\"Accept\": \"text/event-stream\"}, stream=True)\n",
      "    for h in r.history:\n",
      "        logging.debug(\"[%d] Redirect: %s\" % (h.status_code, h.url))\n",
      "    logging.debug(\"[%d] URL: %s\" % (r.status_code, r.url))\n",
      "    r.raise_for_status()\n",
      "    return r"
     ],
     "language": "python",
     "metadata": {},
     "outputs": []
    },
    {
     "cell_type": "code",
     "collapsed": false,
     "input": [
      "from contextlib import closing"
     ],
     "language": "python",
     "metadata": {},
     "outputs": []
    },
    {
     "cell_type": "markdown",
     "metadata": {},
     "source": [
      "### Configure Logging"
     ]
    },
    {
     "cell_type": "code",
     "collapsed": false,
     "input": [
      "import logging"
     ],
     "language": "python",
     "metadata": {},
     "outputs": []
    },
    {
     "cell_type": "markdown",
     "metadata": {},
     "source": [
      "Need to `reload` the `logging` module because IPython Notebook has already loaded it."
     ]
    },
    {
     "cell_type": "code",
     "collapsed": false,
     "input": [
      "reload(logging)"
     ],
     "language": "python",
     "metadata": {},
     "outputs": []
    },
    {
     "cell_type": "code",
     "collapsed": false,
     "input": [
      "logging.basicConfig(filename=\"den.log\", level=logging.DEBUG, format=\"%(asctime)s %(levelname)s %(message)s\")"
     ],
     "language": "python",
     "metadata": {},
     "outputs": []
    },
    {
     "cell_type": "code",
     "collapsed": false,
     "input": [
      "logging.debug(\"Cool!\")"
     ],
     "language": "python",
     "metadata": {},
     "outputs": []
    },
    {
     "cell_type": "markdown",
     "metadata": {},
     "source": [
      "### Helper Functions\n",
      "\n",
      "For processing Nest API REST streaming data:"
     ]
    },
    {
     "cell_type": "code",
     "collapsed": false,
     "input": [
      "def _is_event(line):\n",
      "    \"\"\"Is the given line an event line?\"\"\"\n",
      "    return line.startswith(\"event:\")"
     ],
     "language": "python",
     "metadata": {},
     "outputs": []
    },
    {
     "cell_type": "code",
     "collapsed": false,
     "input": [
      "def _is_data(line):\n",
      "    \"\"\"Is the given line a data line?\"\"\"\n",
      "    return line.startswith(\"data:\")"
     ],
     "language": "python",
     "metadata": {},
     "outputs": []
    },
    {
     "cell_type": "code",
     "collapsed": false,
     "input": [
      "def _process_event(line):\n",
      "    \"\"\"Process the given event line.\"\"\"\n",
      "    _, event = line.split(\":\", 1)\n",
      "    event = event.strip()\n",
      "    logging.debug(event)\n",
      "    return None if event == \"keep-alive\" else event"
     ],
     "language": "python",
     "metadata": {},
     "outputs": []
    },
    {
     "cell_type": "code",
     "collapsed": false,
     "input": [
      "def _process_data(line):\n",
      "    \"\"\"Process the given data line.\"\"\"\n",
      "    _, data_str = line.split(\":\", 1)\n",
      "    return json.loads(data_str.strip())"
     ],
     "language": "python",
     "metadata": {},
     "outputs": []
    },
    {
     "cell_type": "code",
     "collapsed": false,
     "input": [
      "def _process(line):\n",
      "    \"\"\"Process the given line.\"\"\"\n",
      "    if _is_event(line):\n",
      "        _process_event(line)\n",
      "    return _process_data(line) if _is_data(line) else None"
     ],
     "language": "python",
     "metadata": {},
     "outputs": []
    },
    {
     "cell_type": "markdown",
     "metadata": {},
     "source": [
      "## InfluxDB\n",
      "\n",
      "Install and start the database application:"
     ]
    },
    {
     "cell_type": "markdown",
     "metadata": {},
     "source": [
      "```sh\n",
      "brew update\n",
      "brew install influxdb\n",
      "influxdb -config=/usr/local/etc/influxdb.conf\n",
      "```"
     ]
    },
    {
     "cell_type": "markdown",
     "metadata": {},
     "source": [
      "- List available series at http://localhost:8086/db/test/series?p=root&u=root&q=list%20series\n",
      "- Poke around the database at http://localhost:8083/."
     ]
    },
    {
     "cell_type": "markdown",
     "metadata": {},
     "source": [
      "Install the [InfluxDB package](http://influxdb.com/docs/v0.8/client_libraries/python.html) if necessary:"
     ]
    },
    {
     "cell_type": "markdown",
     "metadata": {},
     "source": [
      "```sh\n",
      "pip install influxdb\n",
      "```"
     ]
    },
    {
     "cell_type": "code",
     "collapsed": false,
     "input": [
      "from influxdb import client as influxdb"
     ],
     "language": "python",
     "metadata": {},
     "outputs": []
    },
    {
     "cell_type": "markdown",
     "metadata": {},
     "source": [
      "Connect to the `test` database with the [default parameters](https://github.com/influxdb/influxdb-python/blob/67fca3d2e1e508ab058c2078599081488e1a3f8c/influxdb/client.py#L61-L70):"
     ]
    },
    {
     "cell_type": "code",
     "collapsed": false,
     "input": [
      "db = influxdb.InfluxDBClient(database=\"test\")"
     ],
     "language": "python",
     "metadata": {},
     "outputs": []
    },
    {
     "cell_type": "markdown",
     "metadata": {},
     "source": [
      "An example query to test connection:"
     ]
    },
    {
     "cell_type": "code",
     "collapsed": true,
     "input": [
      "#db.query(\"select * from /.*/ limit 1;\")"
     ],
     "language": "python",
     "metadata": {},
     "outputs": []
    },
    {
     "cell_type": "markdown",
     "metadata": {},
     "source": [
      "Helper functions to translate Nest API datastructures into InfluxDB data structures:"
     ]
    },
    {
     "cell_type": "code",
     "collapsed": true,
     "input": [
      "def _get_thermostats(data):\n",
      "    \"\"\"Get thermostat data from the given data dict.\"\"\"\n",
      "    thermostats = data[\"data\"][\"devices\"][\"thermostats\"]\n",
      "    return [thermostats[t] for t in thermostats]"
     ],
     "language": "python",
     "metadata": {},
     "outputs": []
    },
    {
     "cell_type": "code",
     "collapsed": false,
     "input": [
      "def _get_structures(data):\n",
      "    \"\"\"Get structure data from the given data dict.\"\"\"\n",
      "    structures = data[\"data\"][\"structures\"]\n",
      "    return [structures[s] for s in structures]"
     ],
     "language": "python",
     "metadata": {},
     "outputs": []
    },
    {
     "cell_type": "code",
     "collapsed": false,
     "input": [
      "def _get_thermostat_data(data):\n",
      "    \"\"\"Get thermostat data to write to InfluxDB.\"\"\"\n",
      "    name = \"thermostats\"    \n",
      "    thermostats = _get_thermostats(data)\n",
      "    columns = thermostats[0].keys()\n",
      "    points = [t.values() for t in thermostats]\n",
      "    return [{\"name\": name, \"columns\": columns, \"points\": points}]"
     ],
     "language": "python",
     "metadata": {},
     "outputs": []
    },
    {
     "cell_type": "markdown",
     "metadata": {},
     "source": [
      "I do not know how to support writing non-primitive data to InfluxDB.  It may not even make sense.  Since the `thermostats` attribute is a `list` it is removed from the structure data for now."
     ]
    },
    {
     "cell_type": "code",
     "collapsed": false,
     "input": [
      "def _get_structure_data(data):\n",
      "    \"\"\"Get structure data to write to InfluxDB.\"\"\"\n",
      "    name = \"structures\"\n",
      "    structures = _get_structures(data)\n",
      "    points = []\n",
      "    for s in structures:\n",
      "        try:\n",
      "            del s[\"thermostats\"]\n",
      "        except KeyError:\n",
      "            pass\n",
      "        points.append(s.values())\n",
      "    columns = structures[0].keys()\n",
      "    return [{\"name\": name, \"columns\": columns, \"points\": points}]"
     ],
     "language": "python",
     "metadata": {},
     "outputs": []
    },
    {
     "cell_type": "markdown",
     "metadata": {},
     "source": [
      "### Stream"
     ]
    },
    {
     "cell_type": "code",
     "collapsed": false,
     "input": [
      "def stream():\n",
      "    \"\"\"Stream results from the API and store them in the database.\"\"\"\n",
      "    with closing(get_stream()) as stream:\n",
      "        logging.debug(\"[%d] Streaming! %s\" % (stream.status_code, stream.url))\n",
      "        for l in stream.iter_lines():\n",
      "            if l:\n",
      "                value = _process(l)\n",
      "                if value:\n",
      "                    logging.info(value)\n",
      "                    db.write_points(_get_structure_data(value))\n",
      "                    db.write_points(_get_thermostat_data(value))\n",
      "        logging.debug(\"[%d] No more lines!\" % stream.status_code)\n",
      "    logging.debug(\"Done streaming!\")"
     ],
     "language": "python",
     "metadata": {},
     "outputs": []
    },
    {
     "cell_type": "code",
     "collapsed": false,
     "input": [
      "from requests.exceptions import HTTPError, StreamConsumedError, Timeout"
     ],
     "language": "python",
     "metadata": {},
     "outputs": []
    },
    {
     "cell_type": "code",
     "collapsed": false,
     "input": [
      "import sys"
     ],
     "language": "python",
     "metadata": {},
     "outputs": []
    },
    {
     "cell_type": "markdown",
     "metadata": {},
     "source": [
      "#### FOREVER!"
     ]
    },
    {
     "cell_type": "code",
     "collapsed": false,
     "input": [
      "while True:\n",
      "    try:\n",
      "        stream()\n",
      "    except KeyboardInterrupt:\n",
      "        logging.warn(\"Keyboard interrupt.\")  \n",
      "        sys.exit()\n",
      "    except StreamConsumedError as e:\n",
      "        logging.warn(\"Stream consumed! %s\" % e)\n",
      "    except HTTPError as e:\n",
      "        logging.error(\"HTTPError! %s\" % e)\n",
      "    except Timeout as e:\n",
      "        logging.error(\"Timeout! %s\" % e)\n",
      "    except Exception as e:\n",
      "        logging.critical(\"Unexpected error! %s\" % e)"
     ],
     "language": "python",
     "metadata": {},
     "outputs": []
    }
   ],
   "metadata": {}
  }
 ]
}