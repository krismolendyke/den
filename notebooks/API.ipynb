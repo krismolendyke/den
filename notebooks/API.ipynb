{
 "metadata": {
  "name": "",
  "signature": "sha256:805b4fdee881bea66a2b23af1e0f5b4b16e88324a9c720699a2bb52010ce7f79"
 },
 "nbformat": 3,
 "nbformat_minor": 0,
 "worksheets": [
  {
   "cells": [
    {
     "cell_type": "markdown",
     "metadata": {},
     "source": [
      "# API\n",
      "\n",
      "First, get an [access token](Authorization.ipynb) and set it as the value of `DEN_ACCESS_TOKEN` in the environment *before* starting this IPython Notebook."
     ]
    },
    {
     "cell_type": "code",
     "collapsed": false,
     "input": [
      "import os"
     ],
     "language": "python",
     "metadata": {},
     "outputs": []
    },
    {
     "cell_type": "code",
     "collapsed": false,
     "input": [
      "access_token = os.environ[\"DEN_ACCESS_TOKEN\"]"
     ],
     "language": "python",
     "metadata": {},
     "outputs": []
    },
    {
     "cell_type": "code",
     "collapsed": false,
     "input": [
      "API_PROTOCOL = \"https\"\n",
      "API_LOCATION = \"developer-api.nest.com\""
     ],
     "language": "python",
     "metadata": {},
     "outputs": []
    },
    {
     "cell_type": "code",
     "collapsed": false,
     "input": [
      "from urlparse import SplitResult, urlunsplit\n",
      "from urllib import urlencode"
     ],
     "language": "python",
     "metadata": {},
     "outputs": []
    },
    {
     "cell_type": "code",
     "collapsed": false,
     "input": [
      "def get_api_url(path=\"\"):\n",
      "    query = urlencode({\"auth\": access_token})\n",
      "    split = SplitResult(scheme=API_PROTOCOL, netloc=API_LOCATION, path=path, query=query, fragment=\"\")\n",
      "    return urlunsplit(split)    "
     ],
     "language": "python",
     "metadata": {},
     "outputs": []
    },
    {
     "cell_type": "code",
     "collapsed": false,
     "input": [
      "get_api_url()"
     ],
     "language": "python",
     "metadata": {},
     "outputs": []
    },
    {
     "cell_type": "code",
     "collapsed": false,
     "input": [
      "import requests"
     ],
     "language": "python",
     "metadata": {},
     "outputs": []
    },
    {
     "cell_type": "code",
     "collapsed": false,
     "input": [
      "r = requests.get(get_api_url())\n",
      "print r.status_code\n",
      "assert r.status_code == requests.codes.OK"
     ],
     "language": "python",
     "metadata": {},
     "outputs": []
    },
    {
     "cell_type": "code",
     "collapsed": false,
     "input": [
      "r.json()"
     ],
     "language": "python",
     "metadata": {},
     "outputs": []
    },
    {
     "cell_type": "markdown",
     "metadata": {},
     "source": [
      "## `GET` Helper"
     ]
    },
    {
     "cell_type": "code",
     "collapsed": false,
     "input": [
      "def get(path=\"\"):\n",
      "    \"\"\"Get a dictionary of results for the given path\"\"\"\n",
      "    r = requests.get(get_api_url(path))\n",
      "    r.raise_for_status()\n",
      "    return r.json()"
     ],
     "language": "python",
     "metadata": {},
     "outputs": []
    },
    {
     "cell_type": "code",
     "collapsed": false,
     "input": [
      "get()"
     ],
     "language": "python",
     "metadata": {},
     "outputs": []
    },
    {
     "cell_type": "code",
     "collapsed": false,
     "input": [
      "get(\"structures\")"
     ],
     "language": "python",
     "metadata": {},
     "outputs": []
    },
    {
     "cell_type": "code",
     "collapsed": false,
     "input": [
      "devices = get(\"devices\")\n",
      "thermostats = devices[\"thermostats\"]\n",
      "for t in thermostats:\n",
      "    print thermostats[t].keys()"
     ],
     "language": "python",
     "metadata": {},
     "outputs": []
    },
    {
     "cell_type": "markdown",
     "metadata": {},
     "source": [
      "## Streaming"
     ]
    },
    {
     "cell_type": "code",
     "collapsed": false,
     "input": [
      "import json"
     ],
     "language": "python",
     "metadata": {},
     "outputs": []
    },
    {
     "cell_type": "code",
     "collapsed": false,
     "input": [
      "def get_stream(path=\"\"):\n",
      "    \"\"\"Make a GET to the stream API and return the response object.\"\"\"\n",
      "    r = requests.get(get_api_url(path), headers={\"Accept\": \"text/event-stream\"}, stream=True)\n",
      "    r.raise_for_status()\n",
      "    return r"
     ],
     "language": "python",
     "metadata": {},
     "outputs": []
    },
    {
     "cell_type": "code",
     "collapsed": false,
     "input": [
      "r = get_stream()"
     ],
     "language": "python",
     "metadata": {},
     "outputs": []
    },
    {
     "cell_type": "code",
     "collapsed": false,
     "input": [
      "r.status_code"
     ],
     "language": "python",
     "metadata": {},
     "outputs": []
    },
    {
     "cell_type": "code",
     "collapsed": false,
     "input": [
      "r.headers"
     ],
     "language": "python",
     "metadata": {},
     "outputs": []
    },
    {
     "cell_type": "code",
     "collapsed": false,
     "input": [
      "from time import sleep"
     ],
     "language": "python",
     "metadata": {},
     "outputs": []
    },
    {
     "cell_type": "code",
     "collapsed": false,
     "input": [
      "from contextlib import closing"
     ],
     "language": "python",
     "metadata": {},
     "outputs": []
    },
    {
     "cell_type": "markdown",
     "metadata": {},
     "source": [
      "### Configure Logging"
     ]
    },
    {
     "cell_type": "code",
     "collapsed": false,
     "input": [
      "import logging"
     ],
     "language": "python",
     "metadata": {},
     "outputs": []
    },
    {
     "cell_type": "markdown",
     "metadata": {},
     "source": [
      "Need to `reload` the `logging` module because IPython Notebook has already loaded it."
     ]
    },
    {
     "cell_type": "code",
     "collapsed": false,
     "input": [
      "reload(logging)"
     ],
     "language": "python",
     "metadata": {},
     "outputs": []
    },
    {
     "cell_type": "code",
     "collapsed": false,
     "input": [
      "logging.basicConfig(filename=\"den.log\", level=logging.DEBUG, format=\"%(asctime)s %(levelname)s %(message)s\")"
     ],
     "language": "python",
     "metadata": {},
     "outputs": []
    },
    {
     "cell_type": "code",
     "collapsed": false,
     "input": [
      "logging.info(\"Cool!\")"
     ],
     "language": "python",
     "metadata": {},
     "outputs": []
    },
    {
     "cell_type": "markdown",
     "metadata": {},
     "source": [
      "### Helper Functions"
     ]
    },
    {
     "cell_type": "code",
     "collapsed": false,
     "input": [
      "def _is_event(line):\n",
      "    \"\"\"Is the given line an event line?\"\"\"\n",
      "    return line.startswith(\"event:\")"
     ],
     "language": "python",
     "metadata": {},
     "outputs": []
    },
    {
     "cell_type": "code",
     "collapsed": false,
     "input": [
      "def _is_data(line):\n",
      "    \"\"\"Is the given line a data line?\"\"\"\n",
      "    return line.startswith(\"data:\")"
     ],
     "language": "python",
     "metadata": {},
     "outputs": []
    },
    {
     "cell_type": "code",
     "collapsed": false,
     "input": [
      "def _process_event(line):\n",
      "    \"\"\"Process the given event line.\"\"\"\n",
      "    _, event = line.split(\":\", 1)\n",
      "    event = event.strip()\n",
      "    return None if event == \"keep-alive\" else event"
     ],
     "language": "python",
     "metadata": {},
     "outputs": []
    },
    {
     "cell_type": "code",
     "collapsed": false,
     "input": [
      "def _process_data(line):\n",
      "    \"\"\"Process the given data line.\"\"\"\n",
      "    _, data_str = line.split(\":\", 1)\n",
      "    return json.loads(data_str.strip())"
     ],
     "language": "python",
     "metadata": {},
     "outputs": []
    },
    {
     "cell_type": "code",
     "collapsed": false,
     "input": [
      "def _process(line):\n",
      "    \"\"\"Process the given line.\"\"\"\n",
      "    value = None\n",
      "    if _is_event(line):\n",
      "        value = _process_event(line)\n",
      "    elif _is_data(line):\n",
      "        value = _process_data(line)\n",
      "    return value"
     ],
     "language": "python",
     "metadata": {},
     "outputs": []
    },
    {
     "cell_type": "code",
     "collapsed": false,
     "input": [
      "def stream():\n",
      "    \"\"\"Stream results from the API.\"\"\"\n",
      "    with closing(get_stream()) as stream:\n",
      "        while True:        \n",
      "            for l in stream.iter_lines():\n",
      "                if l:\n",
      "                    value = _process(l)\n",
      "                    if value:\n",
      "                        logging.info(value)\n",
      "            sleep(5)"
     ],
     "language": "python",
     "metadata": {},
     "outputs": []
    },
    {
     "cell_type": "markdown",
     "metadata": {},
     "source": [
      "### Stream"
     ]
    },
    {
     "cell_type": "code",
     "collapsed": false,
     "input": [
      "from requests.exceptions import StreamConsumedError"
     ],
     "language": "python",
     "metadata": {},
     "outputs": []
    },
    {
     "cell_type": "code",
     "collapsed": false,
     "input": [
      "try:\n",
      "    stream()\n",
      "except StreamConsumedError as e:\n",
      "    logging.critical(\"Stream finished: %s\" % e)\n",
      "except:\n",
      "    logging.critical(\"Unexpected error!\")"
     ],
     "language": "python",
     "metadata": {},
     "outputs": []
    }
   ],
   "metadata": {}
  }
 ]
}