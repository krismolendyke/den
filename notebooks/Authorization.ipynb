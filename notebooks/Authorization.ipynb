{
 "cells": [
  {
   "cell_type": "markdown",
   "metadata": {},
   "source": [
    "# Authorization\n",
    "\n",
    "Following the Nest [authorization documentation](https://developer.nest.com/documentation/cloud/how-to-auth).\n",
    "\n",
    "## Setup\n",
    "\n",
    "Get the values of **Client ID** and **Client secret** from the [clients page](https://developer.nest.com/clients) and set them in the environment *before* running this IPython Notebook.  The environment variable names should be `DEN_CLIENT_ID` and `DEN_CLIENT_SECRET`, respectively."
   ]
  },
  {
   "cell_type": "code",
   "execution_count": null,
   "metadata": {
    "collapsed": false
   },
   "outputs": [],
   "source": [
    "import os"
   ]
  },
  {
   "cell_type": "code",
   "execution_count": null,
   "metadata": {
    "collapsed": false
   },
   "outputs": [],
   "source": [
    "DEN_CLIENT_ID = os.environ[\"DEN_CLIENT_ID\"]\n",
    "DEN_CLIENT_SECRET = os.environ[\"DEN_CLIENT_SECRET\"]"
   ]
  },
  {
   "cell_type": "markdown",
   "metadata": {},
   "source": [
    "## Get Authorization URL\n",
    "\n",
    "Available per [client](https://developer.nest.com/clients).  For Den it is:\n",
    "\n",
    "> https://home.nest.com/login/oauth2?client_id=54033edb-04e0-4fc7-8306-5ed6cb7d7b1d&state=STATE\n",
    "\n",
    "Where `STATE` should be a value that is:\n",
    "\n",
    "* Used to protect against cross-site request forgery attacks\n",
    "* Format: any unguessable string\n",
    "* We strongly recommend that you use a new, unique value for each call\n",
    "\n",
    "### Create `STATE` helper"
   ]
  },
  {
   "cell_type": "code",
   "execution_count": null,
   "metadata": {
    "collapsed": false
   },
   "outputs": [],
   "source": [
    "import uuid"
   ]
  },
  {
   "cell_type": "code",
   "execution_count": null,
   "metadata": {
    "collapsed": false
   },
   "outputs": [],
   "source": [
    "def _get_state():\n",
    "    \"\"\"Get a unique id string.\"\"\"\n",
    "    return str(uuid.uuid1())"
   ]
  },
  {
   "cell_type": "code",
   "execution_count": null,
   "metadata": {
    "collapsed": false
   },
   "outputs": [],
   "source": [
    "_get_state()"
   ]
  },
  {
   "cell_type": "markdown",
   "metadata": {},
   "source": [
    "### Create Authorization URL Helper"
   ]
  },
  {
   "cell_type": "code",
   "execution_count": null,
   "metadata": {
    "collapsed": false
   },
   "outputs": [],
   "source": [
    "API_PROTOCOL = \"https\"\n",
    "API_LOCATION = \"home.nest.com\""
   ]
  },
  {
   "cell_type": "code",
   "execution_count": null,
   "metadata": {
    "collapsed": false
   },
   "outputs": [],
   "source": [
    "from urlparse import SplitResult, urlunsplit\n",
    "from urllib import urlencode"
   ]
  },
  {
   "cell_type": "code",
   "execution_count": null,
   "metadata": {
    "collapsed": false
   },
   "outputs": [],
   "source": [
    "def _get_url(path, query, netloc=API_LOCATION):\n",
    "    \"\"\"Get a URL for the given path and query.\"\"\"\n",
    "    split = SplitResult(scheme=API_PROTOCOL, netloc=netloc, path=path, query=query, fragment=\"\")\n",
    "    return urlunsplit(split)"
   ]
  },
  {
   "cell_type": "code",
   "execution_count": null,
   "metadata": {
    "collapsed": false
   },
   "outputs": [],
   "source": [
    "def get_auth_url(client_id=DEN_CLIENT_ID):\n",
    "    \"\"\"Get an authorization URL for the given client id.\"\"\"\n",
    "    path = \"login/oauth2\"\n",
    "    query = urlencode({\"client_id\": client_id, \"state\": _get_state()})\n",
    "    return _get_url(path, query)"
   ]
  },
  {
   "cell_type": "code",
   "execution_count": null,
   "metadata": {
    "collapsed": false
   },
   "outputs": [],
   "source": [
    "get_auth_url()"
   ]
  },
  {
   "cell_type": "markdown",
   "metadata": {},
   "source": [
    "## Get Authorization Code\n",
    "\n",
    "`get_auth_url()` returns a URL that should be visited in the browser to get an authorization code.\n",
    "\n",
    "For Den, this authorization code will be a **PIN**."
   ]
  },
  {
   "cell_type": "code",
   "execution_count": null,
   "metadata": {
    "collapsed": false
   },
   "outputs": [],
   "source": [
    "!open \"{get_auth_url()}\""
   ]
  },
  {
   "cell_type": "markdown",
   "metadata": {},
   "source": [
    "Cut and paste that PIN here:"
   ]
  },
  {
   "cell_type": "code",
   "execution_count": null,
   "metadata": {
    "collapsed": false
   },
   "outputs": [],
   "source": [
    "pin = \"\""
   ]
  },
  {
   "cell_type": "markdown",
   "metadata": {},
   "source": [
    "## Get Access Token\n",
    "\n",
    "Use the `pin` code to request an access token.  https://developer.nest.com/documentation/cloud/authorization-reference/"
   ]
  },
  {
   "cell_type": "code",
   "execution_count": null,
   "metadata": {
    "collapsed": false
   },
   "outputs": [],
   "source": [
    "def get_access_token_url(client_id=DEN_CLIENT_ID, client_secret=DEN_CLIENT_SECRET, code=pin):\n",
    "    \"\"\"Get an access token URL for the given client id.\"\"\"\n",
    "    path = \"oauth2/access_token\"\n",
    "    query = urlencode({\"client_id\": client_id, \n",
    "                       \"client_secret\": client_secret, \n",
    "                       \"code\": code,\n",
    "                       \"grant_type\": \"authorization_code\"})\n",
    "    return _get_url(path, query, \"api.\" + API_LOCATION)"
   ]
  },
  {
   "cell_type": "code",
   "execution_count": null,
   "metadata": {
    "collapsed": false
   },
   "outputs": [],
   "source": [
    "get_access_token_url()"
   ]
  },
  {
   "cell_type": "markdown",
   "metadata": {},
   "source": [
    "`POST` to that URL to get a response containing an access token:"
   ]
  },
  {
   "cell_type": "code",
   "execution_count": null,
   "metadata": {
    "collapsed": false
   },
   "outputs": [],
   "source": [
    "import requests"
   ]
  },
  {
   "cell_type": "code",
   "execution_count": null,
   "metadata": {
    "collapsed": true
   },
   "outputs": [],
   "source": [
    "r = requests.post(get_access_token_url())\n",
    "print r.status_code\n",
    "assert r.status_code == requests.codes.OK"
   ]
  },
  {
   "cell_type": "code",
   "execution_count": null,
   "metadata": {
    "collapsed": true
   },
   "outputs": [],
   "source": [
    "r.json()"
   ]
  },
  {
   "cell_type": "markdown",
   "metadata": {},
   "source": [
    "It seems like the access token can only be created once and has a 10 year expiration time."
   ]
  },
  {
   "cell_type": "code",
   "execution_count": null,
   "metadata": {
    "collapsed": true
   },
   "outputs": [],
   "source": [
    "access_token = r.json()[\"access_token\"]\n",
    "access_token"
   ]
  },
  {
   "cell_type": "markdown",
   "metadata": {},
   "source": [
    "## Use the API\n",
    "\n",
    "The `access_token` will be used when [making API calls](API.ipynb)."
   ]
  }
 ],
 "metadata": {
  "kernelspec": {
   "display_name": "Python 2",
   "language": "python",
   "name": "python2"
  },
  "language_info": {
   "codemirror_mode": {
    "name": "ipython",
    "version": 2
   },
   "file_extension": ".py",
   "mimetype": "text/x-python",
   "name": "python",
   "nbconvert_exporter": "python",
   "pygments_lexer": "ipython2",
   "version": "2.7.6"
  }
 },
 "nbformat": 4,
 "nbformat_minor": 0
}
